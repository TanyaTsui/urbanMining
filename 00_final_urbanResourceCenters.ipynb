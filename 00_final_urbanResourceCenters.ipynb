{
 "cells": [
  {
   "cell_type": "markdown",
   "id": "887d0b95-cd17-4bd3-8869-c79a27c362f6",
   "metadata": {},
   "source": [
    "# Locating future urban resource centers in the Netherlands\n",
    "1. Data wrangling\n",
    "2. Data analysis \n",
    "3. Data visualization "
   ]
  },
  {
   "cell_type": "markdown",
   "id": "2b487323-f03f-4983-81e5-0c06f016dfe4",
   "metadata": {},
   "source": [
    "## 1. Data wrangling\n",
    "Read, clean, and simplify 2 datasets: \n",
    "* Urban mining maps, from PBL\n",
    "    * to do: read and examine dataset - look out for availability of material supply (and demand?) for each location in NL \n",
    "    * to do: pick suitable material flows, time frame\n",
    "* Road network of the Netherlands, from OSM or other sources\n",
    "    * to do: test if spatial network analysis works (calculate travel time, shortest distance) with simplified map from geoFluxus. Try osmnx first, and if that fails, try other network analysis modules"
   ]
  },
  {
   "cell_type": "markdown",
   "id": "0df71135-b2eb-4a32-8fb6-006be8bb740b",
   "metadata": {},
   "source": [
    "## 2. Data analysis\n",
    "Spatial analysis steps: \n",
    "* Determine locations of urban resource centers based on minimizing travel distance to material stock, using facility location method \n",
    "    * to do: pick facility location method\n",
    "    * to do: find out how to use road network to calculate distance. start off with making a choropleth map showing how much material could be collected from each location within certain travel distances\n",
    "* Determine areas suitable for urban resource centers according to spatial attributes (land price, land use) \n",
    "* Determine locations for different scenarios, by changing the travel distance limit. This allow for simulating urban resource centers at the neighborhood, city, regional, and national level"
   ]
  },
  {
   "cell_type": "markdown",
   "id": "771ebe68-b692-4208-b036-bfc856792f81",
   "metadata": {},
   "source": [
    "## 3. Data visualization\n",
    "Maps to be produced for each 'spatial scale' or 'material', or 'timeframe': \n",
    "* choropleth map showing how much material could be collected from that location with that specific travel distance limit \n",
    "    * see [Maarten van Ham's research on job accessibility](https://www.researchgate.net/publication/299461295_Job_access_workplace_mobility_and_occupational_achievement) \n",
    "* suitable locations for urban resource centers (same for every scale?)\n",
    "* locations of urban resource centers"
   ]
  },
  {
   "cell_type": "code",
   "execution_count": null,
   "id": "5887e4b1-981b-4d22-ac65-65509a1b0950",
   "metadata": {},
   "outputs": [],
   "source": []
  }
 ],
 "metadata": {
  "kernelspec": {
   "display_name": "Python 3 (ipykernel)",
   "language": "python",
   "name": "python3"
  },
  "language_info": {
   "codemirror_mode": {
    "name": "ipython",
    "version": 3
   },
   "file_extension": ".py",
   "mimetype": "text/x-python",
   "name": "python",
   "nbconvert_exporter": "python",
   "pygments_lexer": "ipython3",
   "version": "3.9.10"
  }
 },
 "nbformat": 4,
 "nbformat_minor": 5
}
